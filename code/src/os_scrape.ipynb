{
  "cells": [
    {
      "cell_type": "code",
      "execution_count": 11,
      "metadata": {
        "colab": {
          "base_uri": "https://localhost:8080/"
        },
        "id": "m9xSzgz8VYzU",
        "outputId": "bc42160b-7e1e-4edb-e9f0-99b93bd080dc"
      },
      "outputs": [
        {
          "name": "stdout",
          "output_type": "stream",
          "text": [
            "https://www.opensanctions.org/search/?scope=peps&q=Rahul+Gandhi\n",
            "True\n"
          ]
        }
      ],
      "source": [
        "import requests\n",
        "from bs4 import BeautifulSoup\n",
        "\n",
        "def check_pep(person):\n",
        "    if person==\"\":\n",
        "      return False\n",
        "    \"\"\"\n",
        "    Checks if an entity has search results on OpenSanctions.org.\n",
        "\n",
        "    Args:\n",
        "        entity_name (str): The name of the entity to search for.\n",
        "\n",
        "    Returns:\n",
        "        bool: True if search results are found, False otherwise.\n",
        "    \"\"\"\n",
        "    person = person.replace(\" \", \"+\")\n",
        "    url = f\"https://www.opensanctions.org/search/?scope=peps&q={person}\"\n",
        "    try:\n",
        "        response = requests.get(url)\n",
        "        response.raise_for_status()  # Raise HTTPError for bad responses (4xx or 5xx)\n",
        "        soup = BeautifulSoup(response.content, \"html.parser\")\n",
        "        print(url)\n",
        "        # Check for the presence of search results (adjust the selector as needed)\n",
        "        # This is a basic example, you might need to inspect the page\n",
        "        # structure to find the most robust selector.\n",
        "        results = soup.find_all(\"div\", class_=\"Search_resultTitle__twair\")\n",
        "        results2 = soup.find_all(\"span\", class_=\"badge bg-warning\")\n",
        "        check_flag=False\n",
        "        for result in results2:\n",
        "          if result.text==\"Politician\":\n",
        "            check_flag= True\n",
        "        return len(results) > 0 and check_flag\n",
        "\n",
        "    except requests.exceptions.RequestException as e:\n",
        "        print(f\"Error fetching URL: {e}\")\n",
        "        return False\n",
        "\n",
        "# def set_sanctioned_entity_val(e1,e2,intermediary):\n",
        "#   if check_sanctioned_entity(e1):\n",
        "#     obj.sanct_entity_e1=1\n",
        "#   if check_sanctioned_entity(e2):\n",
        "#     obj.sanct_entity_e2=1\n",
        "#   if check_sanctioned_entity(intermediary):\n",
        "#     obj.sanct_entity_intermediary=1\n",
        "\n",
        "print(check_pep(\"Rahul Gandhi\"))"
      ]
    },
    {
      "cell_type": "markdown",
      "metadata": {},
      "source": [
        "### THIS NOTEBOOK MUST BE RUN AND THE PUBLIC IP MUST BE COPIED AND ADDED IN THE riskScore.py file \n",
        "### Had to do this as we were'nt able to scrape it realtime locally, but somehow seems to be working in Google Collab\n",
        "### SO this is a flask app just to deduce whether entities are sanctioned or persons are PEPs "
      ]
    },
    {
      "cell_type": "code",
      "execution_count": null,
      "metadata": {},
      "outputs": [],
      "source": []
    },
    {
      "cell_type": "code",
      "execution_count": 12,
      "metadata": {
        "colab": {
          "base_uri": "https://localhost:8080/",
          "height": 71
        },
        "id": "cWmALbLPVnsu",
        "outputId": "7a7abd67-8b60-4fc9-fb1c-f858ab4c9080"
      },
      "outputs": [
        {
          "name": "stdout",
          "output_type": "stream",
          "text": [
            "https://www.opensanctions.org/search/?scope=peps&q=Rahul+Gandhi\n",
            "https://www.opensanctions.org/search/?scope=peps&q=Arnav+Banerjee\n"
          ]
        },
        {
          "data": {
            "application/vnd.google.colaboratory.intrinsic+json": {
              "type": "string"
            },
            "text/plain": [
              "'0.5'"
            ]
          },
          "execution_count": 12,
          "metadata": {},
          "output_type": "execute_result"
        }
      ],
      "source": [
        "persons=[\"Rahul Gandhi\",\"Arnav Banerjee\"]\n",
        "def persons_norm(persons):\n",
        "    \"\"\"Normalize PEP risk for a list of persons.\n",
        "\n",
        "    Args:\n",
        "        persons: List of person names\n",
        "\n",
        "    Returns:\n",
        "        float: Normalized PEP risk score\n",
        "    \"\"\"\n",
        "    if not persons:\n",
        "        return 0\n",
        "\n",
        "    var = 0\n",
        "    for person in persons:\n",
        "        var = var + (1 if check_pep(person) else 0)\n",
        "    return str(var / len(persons))\n",
        "persons_norm(persons)"
      ]
    },
    {
      "cell_type": "code",
      "execution_count": 13,
      "metadata": {
        "id": "Bq9fPNGDVjR7"
      },
      "outputs": [],
      "source": [
        "def check_sanctioned_entity(entity_name):\n",
        "    if entity_name==\"\":\n",
        "      return False\n",
        "    \"\"\"\n",
        "    Checks if an entity has search results on OpenSanctions.org.\n",
        "\n",
        "    Args:\n",
        "        entity_name (str): The name of the entity to search for.\n",
        "\n",
        "    Returns:\n",
        "        bool: True if search results are found, False otherwise.\n",
        "    \"\"\"\n",
        "    entity_name = entity_name.replace(\" \", \"+\")\n",
        "    url = f\"https://www.opensanctions.org/search/?scope=securities&q={entity_name}\"\n",
        "    try:\n",
        "        response = requests.get(url)\n",
        "        response.raise_for_status()  # Raise HTTPError for bad responses (4xx or 5xx)\n",
        "        soup = BeautifulSoup(response.content, \"html.parser\")\n",
        "\n",
        "        # Check for the presence of search results (adjust the selector as needed)\n",
        "        # This is a basic example, you might need to inspect the page\n",
        "        # structure to find the most robust selector.\n",
        "        results = soup.find_all(\"div\", class_=\"Search_resultTitle__twair\")\n",
        "        results2 = soup.find_all(\"span\", class_=\"badge bg-warning\")\n",
        "        check_flag=False\n",
        "        for result in results2:\n",
        "          if result.text==\"Sanctioned entity\":\n",
        "            check_flag= True\n",
        "        return len(results) > 0 and check_flag\n",
        "\n",
        "    except requests.exceptions.RequestException as e:\n",
        "        print(f\"Error fetching URL: {e}\")\n",
        "        return False"
      ]
    },
    {
      "cell_type": "code",
      "execution_count": 14,
      "metadata": {
        "id": "rjZf8ZqXV347"
      },
      "outputs": [],
      "source": [
        "def entities_norm(entities):\n",
        "  var=0\n",
        "  for entity in entities:\n",
        "    var=var+check_sanctioned_entity(entity)\n",
        "  return str(var/len(entities))\n"
      ]
    },
    {
      "cell_type": "code",
      "execution_count": null,
      "metadata": {
        "colab": {
          "base_uri": "https://localhost:8080/"
        },
        "id": "7Mk77gVaV6yE",
        "outputId": "54994443-3eec-41c5-874a-8d14df6ab313"
      },
      "outputs": [
        {
          "name": "stdout",
          "output_type": "stream",
          "text": [
            "Requirement already satisfied: flask in /usr/local/lib/python3.11/dist-packages (3.1.0)\n",
            "Collecting ngrok\n",
            "  Downloading ngrok-1.4.0-cp37-abi3-manylinux_2_17_x86_64.manylinux2014_x86_64.whl.metadata (19 kB)\n",
            "Requirement already satisfied: Werkzeug>=3.1 in /usr/local/lib/python3.11/dist-packages (from flask) (3.1.3)\n",
            "Requirement already satisfied: Jinja2>=3.1.2 in /usr/local/lib/python3.11/dist-packages (from flask) (3.1.6)\n",
            "Requirement already satisfied: itsdangerous>=2.2 in /usr/local/lib/python3.11/dist-packages (from flask) (2.2.0)\n",
            "Requirement already satisfied: click>=8.1.3 in /usr/local/lib/python3.11/dist-packages (from flask) (8.1.8)\n",
            "Requirement already satisfied: blinker>=1.9 in /usr/local/lib/python3.11/dist-packages (from flask) (1.9.0)\n",
            "Requirement already satisfied: MarkupSafe>=2.0 in /usr/local/lib/python3.11/dist-packages (from Jinja2>=3.1.2->flask) (3.0.2)\n",
            "Downloading ngrok-1.4.0-cp37-abi3-manylinux_2_17_x86_64.manylinux2014_x86_64.whl (3.1 MB)\n",
            "\u001b[2K   \u001b[90m━━━━━━━━━━━━━━━━━━━━━━━━━━━━━━━━━━━━━━━━\u001b[0m \u001b[32m3.1/3.1 MB\u001b[0m \u001b[31m29.0 MB/s\u001b[0m eta \u001b[36m0:00:00\u001b[0m\n",
            "\u001b[?25hInstalling collected packages: ngrok\n",
            "Successfully installed ngrok-1.4.0\n",
            "Collecting pyngrok\n",
            "  Downloading pyngrok-7.2.3-py3-none-any.whl.metadata (8.7 kB)\n",
            "Requirement already satisfied: PyYAML>=5.1 in /usr/local/lib/python3.11/dist-packages (from pyngrok) (6.0.2)\n",
            "Downloading pyngrok-7.2.3-py3-none-any.whl (23 kB)\n",
            "Installing collected packages: pyngrok\n",
            "Successfully installed pyngrok-7.2.3\n",
            "Public URL: https://227c-34-139-148-219.ngrok-free.app\n",
            " * Serving Flask app '__main__'\n",
            " * Debug mode: off\n"
          ]
        },
        {
          "name": "stderr",
          "output_type": "stream",
          "text": [
            "INFO:werkzeug:\u001b[31m\u001b[1mWARNING: This is a development server. Do not use it in a production deployment. Use a production WSGI server instead.\u001b[0m\n",
            " * Running on http://127.0.0.1:5000\n",
            "INFO:werkzeug:\u001b[33mPress CTRL+C to quit\u001b[0m\n",
            "INFO:werkzeug:127.0.0.1 - - [26/Mar/2025 12:05:59] \"GET /entities HTTP/1.1\" 200 -\n",
            "INFO:werkzeug:127.0.0.1 - - [26/Mar/2025 12:11:02] \"\u001b[31m\u001b[1mPOST /persons HTTP/1.1\u001b[0m\" 405 -\n",
            "INFO:werkzeug:127.0.0.1 - - [26/Mar/2025 12:11:03] \"\u001b[31m\u001b[1mPOST /persons HTTP/1.1\u001b[0m\" 405 -\n"
          ]
        },
        {
          "name": "stdout",
          "output_type": "stream",
          "text": [
            "https://www.opensanctions.org/search/?scope=peps&q=Maria+Gonzalez\n"
          ]
        },
        {
          "name": "stderr",
          "output_type": "stream",
          "text": [
            "INFO:werkzeug:127.0.0.1 - - [26/Mar/2025 12:11:44] \"GET /persons HTTP/1.1\" 200 -\n"
          ]
        },
        {
          "name": "stdout",
          "output_type": "stream",
          "text": [
            "https://www.opensanctions.org/search/?scope=peps&q=Rahul+Gandhi\n",
            "https://www.opensanctions.org/search/?scope=peps&q=Maria+Gonzalez\n"
          ]
        },
        {
          "name": "stderr",
          "output_type": "stream",
          "text": [
            "INFO:werkzeug:127.0.0.1 - - [26/Mar/2025 12:11:46] \"GET /persons HTTP/1.1\" 200 -\n"
          ]
        },
        {
          "name": "stdout",
          "output_type": "stream",
          "text": [
            "https://www.opensanctions.org/search/?scope=peps&q=Rahul+Gandhi\n"
          ]
        },
        {
          "name": "stderr",
          "output_type": "stream",
          "text": [
            "INFO:werkzeug:127.0.0.1 - - [26/Mar/2025 12:12:29] \"GET /persons HTTP/1.1\" 200 -\n"
          ]
        },
        {
          "name": "stdout",
          "output_type": "stream",
          "text": [
            "https://www.opensanctions.org/search/?scope=peps&q=Rahul+Gandhi\n",
            "https://www.opensanctions.org/search/?scope=peps&q=Rahul+Gandhi\n"
          ]
        },
        {
          "name": "stderr",
          "output_type": "stream",
          "text": [
            "INFO:werkzeug:127.0.0.1 - - [26/Mar/2025 12:12:46] \"GET /persons HTTP/1.1\" 200 -\n"
          ]
        },
        {
          "name": "stdout",
          "output_type": "stream",
          "text": [
            "https://www.opensanctions.org/search/?scope=peps&q=Arnav\n"
          ]
        },
        {
          "name": "stderr",
          "output_type": "stream",
          "text": [
            "INFO:werkzeug:127.0.0.1 - - [26/Mar/2025 12:13:53] \"GET /entities HTTP/1.1\" 200 -\n",
            "INFO:werkzeug:127.0.0.1 - - [26/Mar/2025 12:14:41] \"GET /entities HTTP/1.1\" 200 -\n"
          ]
        },
        {
          "name": "stdout",
          "output_type": "stream",
          "text": [
            "https://www.opensanctions.org/search/?scope=peps&q=Maria+Gonzalez\n"
          ]
        },
        {
          "name": "stderr",
          "output_type": "stream",
          "text": [
            "INFO:werkzeug:127.0.0.1 - - [26/Mar/2025 12:15:15] \"GET /persons HTTP/1.1\" 200 -\n"
          ]
        },
        {
          "name": "stdout",
          "output_type": "stream",
          "text": [
            "https://www.opensanctions.org/search/?scope=peps&q=Rahul+Gandhi\n"
          ]
        },
        {
          "name": "stderr",
          "output_type": "stream",
          "text": [
            "INFO:werkzeug:127.0.0.1 - - [26/Mar/2025 12:15:16] \"GET /entities HTTP/1.1\" 200 -\n"
          ]
        },
        {
          "name": "stdout",
          "output_type": "stream",
          "text": [
            "https://www.opensanctions.org/search/?scope=peps&q=Maria+Gonzalez\n"
          ]
        },
        {
          "name": "stderr",
          "output_type": "stream",
          "text": [
            "INFO:werkzeug:127.0.0.1 - - [26/Mar/2025 12:15:17] \"GET /persons HTTP/1.1\" 200 -\n"
          ]
        },
        {
          "name": "stdout",
          "output_type": "stream",
          "text": [
            "https://www.opensanctions.org/search/?scope=peps&q=Rahul+Gandhi\n"
          ]
        },
        {
          "name": "stderr",
          "output_type": "stream",
          "text": [
            "INFO:werkzeug:127.0.0.1 - - [26/Mar/2025 12:15:19] \"GET /entities HTTP/1.1\" 200 -\n"
          ]
        }
      ],
      "source": [
        "!pip install flask ngrok\n",
        "!pip install pyngrok\n",
        "from flask import Flask, jsonify,request\n",
        "from pyngrok import ngrok\n",
        "import requests\n",
        "ngrok.set_auth_token(\"2uqw1cjUHjzVoKjNTmjBH1yGRUl_5KZWyWLP7xgg4EnUjtDYj\") # Replace YOUR_AUTHTOKEN with your actual token\n",
        "\n",
        "app = Flask(__name__)\n",
        "\n",
        "@app.route('/data')\n",
        "def get_data():\n",
        "    data = {'message': 'Hello from Colab!'}\n",
        "    return jsonify(data)\n",
        "\n",
        "@app.route('/persons', methods=['GET'])\n",
        "def get_strings():\n",
        "    \"\"\"\n",
        "    This endpoint accepts a JSON payload containing a list of strings.\n",
        "\n",
        "    Example JSON payload:\n",
        "    {\n",
        "        \"strings\": [\"string1\", \"string2\", \"string3\"]\n",
        "    }\n",
        "\n",
        "    Returns a JSON response containing the received strings.\n",
        "    \"\"\"\n",
        "    try:\n",
        "        data = request.get_json()  # Get the JSON data from the request\n",
        "        strings = data.get('strings', [])  # Extract the list of strings\n",
        "        return persons_norm(strings)\n",
        "    except Exception as e:\n",
        "        return jsonify({'error': str(e)}),\n",
        "\n",
        "@app.route('/entities', methods=['GET'])\n",
        "def get_entityScore():\n",
        "    \"\"\"\n",
        "    This endpoint accepts a JSON payload containing a list of strings.\n",
        "\n",
        "    Example JSON payload:\n",
        "    {\n",
        "        \"strings\": [\"string1\", \"string2\", \"string3\"]\n",
        "    }\n",
        "\n",
        "    Returns a JSON response containing the received strings.\n",
        "    \"\"\"\n",
        "    try:\n",
        "        data = request.get_json()  # Get the JSON data from the request\n",
        "        strings = data.get('strings', [])  # Extract the list of strings\n",
        "        return entities_norm(strings)\n",
        "    except Exception as e:\n",
        "        return jsonify({'error': str(e)}),\n",
        "\n",
        "# Open a ngrok tunnel to the Flask app\n",
        "ngrok_tunnel = ngrok.connect(5000)\n",
        "print('Public URL:', ngrok_tunnel.public_url)\n",
        "\n",
        "# Run the Flask app\n",
        "app.run(port=5000)"
      ]
    }
  ],
  "metadata": {
    "colab": {
      "provenance": []
    },
    "kernelspec": {
      "display_name": "Python 3",
      "name": "python3"
    },
    "language_info": {
      "name": "python"
    }
  },
  "nbformat": 4,
  "nbformat_minor": 0
}
